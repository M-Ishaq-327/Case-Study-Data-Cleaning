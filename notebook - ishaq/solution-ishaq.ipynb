{
 "cells": [
  {
   "cell_type": "code",
   "execution_count": 116,
   "metadata": {},
   "outputs": [],
   "source": [
    "import pandas as pd\n",
    "import numpy as np"
   ]
  },
  {
   "cell_type": "code",
   "execution_count": 117,
   "metadata": {},
   "outputs": [],
   "source": [
    "df = pd.read_csv(r'E:\\ishaq DE\\Case-Study-Data-Cleaning\\data\\bank_marketing.csv')"
   ]
  },
  {
   "cell_type": "code",
   "execution_count": 118,
   "metadata": {},
   "outputs": [
    {
     "data": {
      "text/plain": [
       "Index(['client_id', 'age', 'job', 'marital', 'education', 'credit_default',\n",
       "       'mortgage', 'month', 'day', 'contact_duration', 'number_contacts',\n",
       "       'previous_campaign_contacts', 'previous_outcome', 'cons_price_idx',\n",
       "       'euribor_three_months', 'campaign_outcome'],\n",
       "      dtype='object')"
      ]
     },
     "execution_count": 118,
     "metadata": {},
     "output_type": "execute_result"
    }
   ],
   "source": [
    "df.columns\n"
   ]
  },
  {
   "cell_type": "code",
   "execution_count": 119,
   "metadata": {},
   "outputs": [
    {
     "data": {
      "text/plain": [
       "<bound method DataFrame.info of        client_id  age          job  marital            education  \\\n",
       "0              0   56    housemaid  married             basic.4y   \n",
       "1              1   57     services  married          high.school   \n",
       "2              2   37     services  married          high.school   \n",
       "3              3   40       admin.  married             basic.6y   \n",
       "4              4   56     services  married          high.school   \n",
       "...          ...  ...          ...      ...                  ...   \n",
       "41183      41183   73      retired  married  professional.course   \n",
       "41184      41184   46  blue-collar  married  professional.course   \n",
       "41185      41185   56      retired  married    university.degree   \n",
       "41186      41186   44   technician  married  professional.course   \n",
       "41187      41187   74      retired  married  professional.course   \n",
       "\n",
       "      credit_default mortgage month  day  contact_duration  number_contacts  \\\n",
       "0                 no       no   may   13               261                1   \n",
       "1            unknown       no   may   19               149                1   \n",
       "2                 no      yes   may   23               226                1   \n",
       "3                 no       no   may   27               151                1   \n",
       "4                 no       no   may    3               307                1   \n",
       "...              ...      ...   ...  ...               ...              ...   \n",
       "41183             no      yes   nov   30               334                1   \n",
       "41184             no       no   nov    6               383                1   \n",
       "41185             no      yes   nov   24               189                2   \n",
       "41186             no       no   nov   17               442                1   \n",
       "41187             no      yes   nov   23               239                3   \n",
       "\n",
       "       previous_campaign_contacts previous_outcome  cons_price_idx  \\\n",
       "0                               0      nonexistent          93.994   \n",
       "1                               0      nonexistent          93.994   \n",
       "2                               0      nonexistent          93.994   \n",
       "3                               0      nonexistent          93.994   \n",
       "4                               0      nonexistent          93.994   \n",
       "...                           ...              ...             ...   \n",
       "41183                           0      nonexistent          94.767   \n",
       "41184                           0      nonexistent          94.767   \n",
       "41185                           0      nonexistent          94.767   \n",
       "41186                           0      nonexistent          94.767   \n",
       "41187                           1          failure          94.767   \n",
       "\n",
       "       euribor_three_months campaign_outcome  \n",
       "0                     4.857               no  \n",
       "1                     4.857               no  \n",
       "2                     4.857               no  \n",
       "3                     4.857               no  \n",
       "4                     4.857               no  \n",
       "...                     ...              ...  \n",
       "41183                 1.028              yes  \n",
       "41184                 1.028               no  \n",
       "41185                 1.028               no  \n",
       "41186                 1.028              yes  \n",
       "41187                 1.028               no  \n",
       "\n",
       "[41188 rows x 16 columns]>"
      ]
     },
     "execution_count": 119,
     "metadata": {},
     "output_type": "execute_result"
    }
   ],
   "source": [
    "df.info"
   ]
  },
  {
   "cell_type": "code",
   "execution_count": 120,
   "metadata": {},
   "outputs": [
    {
     "data": {
      "text/plain": [
       "0          housemaid\n",
       "1           services\n",
       "2           services\n",
       "3             admin.\n",
       "4           services\n",
       "            ...     \n",
       "41183        retired\n",
       "41184    blue-collar\n",
       "41185        retired\n",
       "41186     technician\n",
       "41187        retired\n",
       "Name: job, Length: 41188, dtype: object"
      ]
     },
     "execution_count": 120,
     "metadata": {},
     "output_type": "execute_result"
    }
   ],
   "source": [
    "df['job']\n"
   ]
  },
  {
   "cell_type": "code",
   "execution_count": 121,
   "metadata": {},
   "outputs": [],
   "source": [
    "df['job'] = df['job'].str.replace('.', '_', regex=False)\n"
   ]
  },
  {
   "cell_type": "code",
   "execution_count": 122,
   "metadata": {},
   "outputs": [
    {
     "data": {
      "text/plain": [
       "0       -1\n",
       "1       -1\n",
       "2       -1\n",
       "3       -1\n",
       "4       -1\n",
       "        ..\n",
       "41183   -1\n",
       "41184   -1\n",
       "41185   -1\n",
       "41186   -1\n",
       "41187   -1\n",
       "Name: job, Length: 41188, dtype: int64"
      ]
     },
     "execution_count": 122,
     "metadata": {},
     "output_type": "execute_result"
    }
   ],
   "source": [
    "df['job'].str.find('.') #ensure by checking that any \".\" are present or not."
   ]
  },
  {
   "cell_type": "code",
   "execution_count": 123,
   "metadata": {},
   "outputs": [
    {
     "data": {
      "text/plain": [
       "0                   basic.4y\n",
       "1                high.school\n",
       "2                high.school\n",
       "3                   basic.6y\n",
       "4                high.school\n",
       "                ...         \n",
       "41183    professional.course\n",
       "41184    professional.course\n",
       "41185      university.degree\n",
       "41186    professional.course\n",
       "41187    professional.course\n",
       "Name: education, Length: 41188, dtype: object"
      ]
     },
     "execution_count": 123,
     "metadata": {},
     "output_type": "execute_result"
    }
   ],
   "source": [
    "df['education'] #here we see the dots"
   ]
  },
  {
   "cell_type": "code",
   "execution_count": 124,
   "metadata": {},
   "outputs": [],
   "source": [
    "df['education'] = df['education'].str.replace('unknown', 'np.NaN', regex=False).str.replace('.', '_', regex=False)\n"
   ]
  },
  {
   "cell_type": "code",
   "execution_count": 125,
   "metadata": {},
   "outputs": [
    {
     "data": {
      "text/plain": [
       "0                   basic_4y\n",
       "1                high_school\n",
       "2                high_school\n",
       "3                   basic_6y\n",
       "4                high_school\n",
       "                ...         \n",
       "41183    professional_course\n",
       "41184    professional_course\n",
       "41185      university_degree\n",
       "41186    professional_course\n",
       "41187    professional_course\n",
       "Name: education, Length: 41188, dtype: object"
      ]
     },
     "execution_count": 125,
     "metadata": {},
     "output_type": "execute_result"
    }
   ],
   "source": [
    "df['education'] #dots and unknown are removed."
   ]
  },
  {
   "cell_type": "code",
   "execution_count": 133,
   "metadata": {},
   "outputs": [
    {
     "data": {
      "text/plain": [
       "dtype('O')"
      ]
     },
     "execution_count": 133,
     "metadata": {},
     "output_type": "execute_result"
    }
   ],
   "source": [
    "df['education'].dtype #it show '0' means object in pandas."
   ]
  },
  {
   "cell_type": "code",
   "execution_count": null,
   "metadata": {},
   "outputs": [],
   "source": []
  }
 ],
 "metadata": {
  "kernelspec": {
   "display_name": "Python 3",
   "language": "python",
   "name": "python3"
  },
  "language_info": {
   "codemirror_mode": {
    "name": "ipython",
    "version": 3
   },
   "file_extension": ".py",
   "mimetype": "text/x-python",
   "name": "python",
   "nbconvert_exporter": "python",
   "pygments_lexer": "ipython3",
   "version": "3.12.1"
  }
 },
 "nbformat": 4,
 "nbformat_minor": 2
}
